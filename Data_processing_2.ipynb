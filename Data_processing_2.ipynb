{
 "cells": [
  {
   "cell_type": "code",
   "execution_count": 2,
   "metadata": {},
   "outputs": [],
   "source": [
    "import pandas as pd\n",
    "import os"
   ]
  },
  {
   "cell_type": "code",
   "execution_count": 3,
   "metadata": {},
   "outputs": [],
   "source": [
    "# Load the dataset (Change 'your_file.csv' to your actual file name)\n",
    "df = pd.read_excel(\"Delhi_Dataset.xlsx\")"
   ]
  },
  {
   "cell_type": "code",
   "execution_count": 4,
   "metadata": {},
   "outputs": [],
   "source": [
    "# Convert the Date column to datetime format (Ensure the column name is correct)\n",
    "df['Date'] = pd.to_datetime(df['date'])\n"
   ]
  },
  {
   "cell_type": "code",
   "execution_count": 5,
   "metadata": {},
   "outputs": [],
   "source": [
    "# Create a directory to save the files\n",
    "output_folder = \"Separated_Monthly_Data_Delhi_Dataset\"\n",
    "os.makedirs(output_folder, exist_ok=True)"
   ]
  },
  {
   "cell_type": "code",
   "execution_count": 8,
   "metadata": {},
   "outputs": [
    {
     "name": "stdout",
     "output_type": "stream",
     "text": [
      "Saved: Separated_Monthly_Data_Delhi_Dataset/AQI_1_2020_2024.csv\n",
      "Saved: Separated_Monthly_Data_Delhi_Dataset/AQI_2_2020_2024.csv\n",
      "Saved: Separated_Monthly_Data_Delhi_Dataset/AQI_3_2020_2024.csv\n",
      "Saved: Separated_Monthly_Data_Delhi_Dataset/AQI_4_2020_2024.csv\n",
      "Saved: Separated_Monthly_Data_Delhi_Dataset/AQI_5_2020_2024.csv\n",
      "Saved: Separated_Monthly_Data_Delhi_Dataset/AQI_6_2020_2024.csv\n",
      "Saved: Separated_Monthly_Data_Delhi_Dataset/AQI_7_2020_2024.csv\n",
      "Saved: Separated_Monthly_Data_Delhi_Dataset/AQI_8_2020_2024.csv\n",
      "Saved: Separated_Monthly_Data_Delhi_Dataset/AQI_9_2020_2024.csv\n",
      "Saved: Separated_Monthly_Data_Delhi_Dataset/AQI_10_2020_2024.csv\n",
      "Saved: Separated_Monthly_Data_Delhi_Dataset/AQI_11_2020_2024.csv\n",
      "Saved: Separated_Monthly_Data_Delhi_Dataset/AQI_12_2020_2024.csv\n",
      "All monthly datasets have been created successfully!\n"
     ]
    }
   ],
   "source": [
    "# Loop through each month (1 = January, 2 = February, ..., 12 = December)\n",
    "for month in range(1, 13):\n",
    "    # Filter data for the given month\n",
    "    month_df = df[df['Date'].dt.month == month]\n",
    "    \n",
    "    # Save each month's data into a separate CSV file\n",
    "    file_name = f\"{output_folder}/AQI_{month}_2020_2024.csv\"\n",
    "    month_df.to_csv(file_name, index=False)\n",
    "\n",
    "    print(f\"Saved: {file_name}\")\n",
    "\n",
    "print(\"All monthly datasets have been created successfully!\")"
   ]
  },
  {
   "cell_type": "code",
   "execution_count": null,
   "metadata": {},
   "outputs": [],
   "source": []
  },
  {
   "cell_type": "code",
   "execution_count": null,
   "metadata": {},
   "outputs": [],
   "source": []
  },
  {
   "cell_type": "code",
   "execution_count": null,
   "metadata": {},
   "outputs": [],
   "source": []
  },
  {
   "cell_type": "code",
   "execution_count": null,
   "metadata": {},
   "outputs": [],
   "source": []
  }
 ],
 "metadata": {
  "kernelspec": {
   "display_name": "Python 3",
   "language": "python",
   "name": "python3"
  },
  "language_info": {
   "codemirror_mode": {
    "name": "ipython",
    "version": 3
   },
   "file_extension": ".py",
   "mimetype": "text/x-python",
   "name": "python",
   "nbconvert_exporter": "python",
   "pygments_lexer": "ipython3",
   "version": "3.10.0"
  }
 },
 "nbformat": 4,
 "nbformat_minor": 2
}
